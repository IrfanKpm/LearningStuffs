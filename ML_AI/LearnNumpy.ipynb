{
 "cells": [
  {
   "cell_type": "code",
   "execution_count": 1,
   "id": "4c4ea34b-fa75-4b31-9501-10ab5efd37eb",
   "metadata": {},
   "outputs": [],
   "source": [
    "# pip install numpy"
   ]
  },
  {
   "cell_type": "code",
   "execution_count": 2,
   "id": "56d41a62-9f3b-46e8-a78c-99308a146767",
   "metadata": {},
   "outputs": [],
   "source": [
    "import numpy as np"
   ]
  },
  {
   "cell_type": "code",
   "execution_count": 3,
   "id": "cb2f90bd-fe14-479f-90dc-c8967a8cb396",
   "metadata": {},
   "outputs": [
    {
     "data": {
      "text/plain": [
       "dtype('int32')"
      ]
     },
     "execution_count": 3,
     "metadata": {},
     "output_type": "execute_result"
    }
   ],
   "source": [
    "a = np.array([2,5,10])\n",
    "a.dtype  # datatype\n"
   ]
  },
  {
   "cell_type": "code",
   "execution_count": 4,
   "id": "4232aec3-11a7-4684-9401-94ecb69aa8a7",
   "metadata": {},
   "outputs": [
    {
     "data": {
      "text/plain": [
       "dtype('float64')"
      ]
     },
     "execution_count": 4,
     "metadata": {},
     "output_type": "execute_result"
    }
   ],
   "source": [
    "b = np.array([2.3,6.0])\n",
    "b.dtype"
   ]
  },
  {
   "cell_type": "code",
   "execution_count": 5,
   "id": "d81eb61e-822c-4136-81c3-cb202f7dbf27",
   "metadata": {},
   "outputs": [],
   "source": [
    "# a,b are 1D array"
   ]
  },
  {
   "cell_type": "code",
   "execution_count": 6,
   "id": "c7f85f3d-b445-4adb-8f67-3b13a48c5719",
   "metadata": {},
   "outputs": [
    {
     "data": {
      "text/plain": [
       "dtype('int32')"
      ]
     },
     "execution_count": 6,
     "metadata": {},
     "output_type": "execute_result"
    }
   ],
   "source": [
    "c = np.array([[1,2 ,3],[4,5,6]])  # 2D array [ [raw1] , [raw2] ]\n",
    "c.dtype"
   ]
  },
  {
   "cell_type": "code",
   "execution_count": 7,
   "id": "c4268ebe-9de3-4f3c-81cc-1958ff517a22",
   "metadata": {
    "scrolled": true
   },
   "outputs": [
    {
     "data": {
      "text/plain": [
       "array([[1, 2, 3],\n",
       "       [4, 5, 6]])"
      ]
     },
     "execution_count": 7,
     "metadata": {},
     "output_type": "execute_result"
    }
   ],
   "source": [
    "c"
   ]
  },
  {
   "cell_type": "code",
   "execution_count": 8,
   "id": "cc2cb599-8b21-45b8-8112-fa9f8ae8fb65",
   "metadata": {},
   "outputs": [],
   "source": [
    "d = np.array([3 , 6 , 8 ],dtype=\"complex\") # datatype = complex number ( J:Imaginary part )"
   ]
  },
  {
   "cell_type": "code",
   "execution_count": 9,
   "id": "195d8279-02f3-4ea4-9778-132b3f5be747",
   "metadata": {
    "scrolled": true
   },
   "outputs": [
    {
     "data": {
      "text/plain": [
       "array([3.+0.j, 6.+0.j, 8.+0.j])"
      ]
     },
     "execution_count": 9,
     "metadata": {},
     "output_type": "execute_result"
    }
   ],
   "source": [
    "d  # complex numbers"
   ]
  },
  {
   "cell_type": "code",
   "execution_count": 10,
   "id": "bc527602-9bfc-4439-ad01-515e68692b45",
   "metadata": {},
   "outputs": [],
   "source": [
    "z = np.zeros((4,3))  # 4:number_of_row , 3:number_of_columns "
   ]
  },
  {
   "cell_type": "code",
   "execution_count": 11,
   "id": "1875e134-8ceb-433e-ae1b-0c1c476f7a9c",
   "metadata": {},
   "outputs": [
    {
     "data": {
      "text/plain": [
       "dtype('float64')"
      ]
     },
     "execution_count": 11,
     "metadata": {},
     "output_type": "execute_result"
    }
   ],
   "source": [
    "z.dtype"
   ]
  },
  {
   "cell_type": "code",
   "execution_count": 12,
   "id": "89e3efd5-e3ab-4ff6-945b-22cdca9cc4f4",
   "metadata": {},
   "outputs": [
    {
     "data": {
      "text/plain": [
       "array([[0., 0., 0.],\n",
       "       [0., 0., 0.],\n",
       "       [0., 0., 0.],\n",
       "       [0., 0., 0.]])"
      ]
     },
     "execution_count": 12,
     "metadata": {},
     "output_type": "execute_result"
    }
   ],
   "source": [
    "z"
   ]
  },
  {
   "cell_type": "code",
   "execution_count": 13,
   "id": "b08f3173-6520-436d-a126-9708e8c36210",
   "metadata": {},
   "outputs": [
    {
     "data": {
      "text/plain": [
       "(4, 3)"
      ]
     },
     "execution_count": 13,
     "metadata": {},
     "output_type": "execute_result"
    }
   ],
   "source": [
    "z.shape # display matrix dimension"
   ]
  },
  {
   "cell_type": "code",
   "execution_count": 14,
   "id": "0d31ecf2-13e7-47c2-9d93-88d512f0ee41",
   "metadata": {},
   "outputs": [],
   "source": [
    "on = np.ones((3,3))"
   ]
  },
  {
   "cell_type": "code",
   "execution_count": 15,
   "id": "59b9c224-2e24-4426-857d-075dd5dfdef9",
   "metadata": {},
   "outputs": [
    {
     "data": {
      "text/plain": [
       "array([[1., 1., 1.],\n",
       "       [1., 1., 1.],\n",
       "       [1., 1., 1.]])"
      ]
     },
     "execution_count": 15,
     "metadata": {},
     "output_type": "execute_result"
    }
   ],
   "source": [
    "on"
   ]
  },
  {
   "cell_type": "code",
   "execution_count": 16,
   "id": "68e31aa2-191a-43e7-9215-71aa8c56f31c",
   "metadata": {},
   "outputs": [],
   "source": [
    "    # 3D > 2 sett of 3*4 matrix | | default it comes 'float64' dtype \n",
    "onw = np.ones((2,3,4),dtype=\"int32\") "
   ]
  },
  {
   "cell_type": "code",
   "execution_count": 17,
   "id": "884222fd-8dc9-4156-95c3-d7896fc30adc",
   "metadata": {},
   "outputs": [
    {
     "data": {
      "text/plain": [
       "array([[[1, 1, 1, 1],\n",
       "        [1, 1, 1, 1],\n",
       "        [1, 1, 1, 1]],\n",
       "\n",
       "       [[1, 1, 1, 1],\n",
       "        [1, 1, 1, 1],\n",
       "        [1, 1, 1, 1]]])"
      ]
     },
     "execution_count": 17,
     "metadata": {},
     "output_type": "execute_result"
    }
   ],
   "source": [
    "onw"
   ]
  },
  {
   "cell_type": "code",
   "execution_count": 18,
   "id": "6fab7675-3c21-4f0e-9fc5-4460357d5593",
   "metadata": {},
   "outputs": [
    {
     "data": {
      "text/plain": [
       "dtype('int32')"
      ]
     },
     "execution_count": 18,
     "metadata": {},
     "output_type": "execute_result"
    }
   ],
   "source": [
    "onw.dtype"
   ]
  },
  {
   "cell_type": "code",
   "execution_count": 19,
   "id": "c6f4dabe-6cb1-4c47-8076-e98afa96e792",
   "metadata": {},
   "outputs": [],
   "source": [
    "     # like range function used in for loop\n",
    "a = np.arange(5,27,5) "
   ]
  },
  {
   "cell_type": "code",
   "execution_count": 20,
   "id": "e1962cb0-11ab-4474-bf8e-5a8a5820e379",
   "metadata": {},
   "outputs": [
    {
     "data": {
      "text/plain": [
       "array([ 5, 10, 15, 20, 25])"
      ]
     },
     "execution_count": 20,
     "metadata": {},
     "output_type": "execute_result"
    }
   ],
   "source": [
    "a"
   ]
  },
  {
   "cell_type": "code",
   "execution_count": 21,
   "id": "9836628d-605b-4b50-a76b-1f8e03e0a4e6",
   "metadata": {},
   "outputs": [],
   "source": [
    "      # create a array 2 to 11 with 7 uniform intervals\n",
    "b = np.linspace(2,11,7)"
   ]
  },
  {
   "cell_type": "code",
   "execution_count": 22,
   "id": "0a2b374b-1e23-470f-8e7d-05d49835b0d9",
   "metadata": {},
   "outputs": [
    {
     "data": {
      "text/plain": [
       "array([ 2. ,  3.5,  5. ,  6.5,  8. ,  9.5, 11. ])"
      ]
     },
     "execution_count": 22,
     "metadata": {},
     "output_type": "execute_result"
    }
   ],
   "source": [
    "b"
   ]
  },
  {
   "cell_type": "code",
   "execution_count": 23,
   "id": "a0866ff7-8a96-488c-8a78-4d46eaa79343",
   "metadata": {},
   "outputs": [],
   "source": [
    "c = np.arange(0,100,5)"
   ]
  },
  {
   "cell_type": "code",
   "execution_count": 24,
   "id": "dc53b028-210e-4c2d-90c4-e075282739bf",
   "metadata": {},
   "outputs": [
    {
     "data": {
      "text/plain": [
       "array([ 0,  5, 10, 15, 20, 25, 30, 35, 40, 45, 50, 55, 60, 65, 70, 75, 80,\n",
       "       85, 90, 95])"
      ]
     },
     "execution_count": 24,
     "metadata": {},
     "output_type": "execute_result"
    }
   ],
   "source": [
    "c"
   ]
  },
  {
   "cell_type": "code",
   "execution_count": 25,
   "id": "4c224516-ba88-4b2e-9d5d-db54012fca47",
   "metadata": {},
   "outputs": [
    {
     "data": {
      "text/plain": [
       "(20,)"
      ]
     },
     "execution_count": 25,
     "metadata": {},
     "output_type": "execute_result"
    }
   ],
   "source": [
    "c.shape # not its 1D array "
   ]
  },
  {
   "cell_type": "code",
   "execution_count": 26,
   "id": "e8094fb1-0790-422e-ae8c-766ef7481967",
   "metadata": {},
   "outputs": [
    {
     "data": {
      "text/plain": [
       "array([[ 0,  5, 10, 15],\n",
       "       [20, 25, 30, 35],\n",
       "       [40, 45, 50, 55],\n",
       "       [60, 65, 70, 75],\n",
       "       [80, 85, 90, 95]])"
      ]
     },
     "execution_count": 26,
     "metadata": {},
     "output_type": "execute_result"
    }
   ],
   "source": [
    "# we can reshape it into 2D \n",
    "c.reshape((5,4))"
   ]
  },
  {
   "cell_type": "code",
   "execution_count": 27,
   "id": "0c4f493e-bce6-479b-a5ce-4a2a7b7bc9b2",
   "metadata": {},
   "outputs": [
    {
     "data": {
      "text/plain": [
       "array([[[ 0,  5, 10, 15, 20],\n",
       "        [25, 30, 35, 40, 45]],\n",
       "\n",
       "       [[50, 55, 60, 65, 70],\n",
       "        [75, 80, 85, 90, 95]]])"
      ]
     },
     "execution_count": 27,
     "metadata": {},
     "output_type": "execute_result"
    }
   ],
   "source": [
    "# we can reshape it into 3D\n",
    "c.reshape((2,2,5))"
   ]
  },
  {
   "cell_type": "code",
   "execution_count": 28,
   "id": "f4546f21-875e-44c2-befb-09d7f9cbf8a0",
   "metadata": {},
   "outputs": [],
   "source": [
    "a = np.array([3,4,7,8,9])\n",
    "b = np.array([1,4,6,10,5])"
   ]
  },
  {
   "cell_type": "code",
   "execution_count": 29,
   "id": "b6959bd1-29c9-4f1d-acf7-78da37e15dd2",
   "metadata": {},
   "outputs": [],
   "source": [
    "diff = a - b  # matrix substraction"
   ]
  },
  {
   "cell_type": "code",
   "execution_count": 30,
   "id": "c3c94766-d687-498f-bcd0-22df3733e9e1",
   "metadata": {},
   "outputs": [
    {
     "data": {
      "text/plain": [
       "array([ 2,  0,  1, -2,  4])"
      ]
     },
     "execution_count": 30,
     "metadata": {},
     "output_type": "execute_result"
    }
   ],
   "source": [
    "diff"
   ]
  },
  {
   "cell_type": "code",
   "execution_count": 31,
   "id": "46f1dcf3-1228-4d7f-8280-005b2f21af7d",
   "metadata": {},
   "outputs": [],
   "source": [
    "add = a + b  # matrix addition"
   ]
  },
  {
   "cell_type": "code",
   "execution_count": 32,
   "id": "4c984696-2045-4612-95df-6db0f398778a",
   "metadata": {},
   "outputs": [
    {
     "data": {
      "text/plain": [
       "array([ 4,  8, 13, 18, 14])"
      ]
     },
     "execution_count": 32,
     "metadata": {},
     "output_type": "execute_result"
    }
   ],
   "source": [
    "add"
   ]
  },
  {
   "cell_type": "code",
   "execution_count": 33,
   "id": "b95bff7d-c246-471a-a4ac-f086f469bc11",
   "metadata": {},
   "outputs": [],
   "source": [
    "powe =  b**2  # power by 2"
   ]
  },
  {
   "cell_type": "code",
   "execution_count": 34,
   "id": "32ba39ba-502f-47ff-8a17-ae165b0573a8",
   "metadata": {},
   "outputs": [
    {
     "data": {
      "text/plain": [
       "array([  1,  16,  36, 100,  25])"
      ]
     },
     "execution_count": 34,
     "metadata": {},
     "output_type": "execute_result"
    }
   ],
   "source": [
    "powe"
   ]
  },
  {
   "cell_type": "code",
   "execution_count": 35,
   "id": "80c1d046-e805-49d2-b72e-68784377930c",
   "metadata": {},
   "outputs": [],
   "source": [
    "x = 0,90,180,360\n",
    "y = np.sin(x)  # sin() values"
   ]
  },
  {
   "cell_type": "code",
   "execution_count": 36,
   "id": "ad65d5f0-b2d4-4b3e-bc0a-9316cdc22ec7",
   "metadata": {},
   "outputs": [
    {
     "data": {
      "text/plain": [
       "array([ 0.        ,  0.89399666, -0.80115264,  0.95891572])"
      ]
     },
     "execution_count": 36,
     "metadata": {},
     "output_type": "execute_result"
    }
   ],
   "source": [
    "y"
   ]
  },
  {
   "cell_type": "code",
   "execution_count": 37,
   "id": "9c1ec3c6-5333-4fba-93cc-9c418a44c8a5",
   "metadata": {},
   "outputs": [
    {
     "data": {
      "text/plain": [
       "array([ True,  True,  True, False,  True])"
      ]
     },
     "execution_count": 37,
     "metadata": {},
     "output_type": "execute_result"
    }
   ],
   "source": [
    "   # logic operations on array b\n",
    "b<9  "
   ]
  },
  {
   "cell_type": "code",
   "execution_count": 38,
   "id": "4b6de2a8-58fa-4b05-b721-5e728336189a",
   "metadata": {},
   "outputs": [],
   "source": [
    "a = np.array([[2,3],[1,1]])\n",
    "b = np.array([[1,2],[3,4]])"
   ]
  },
  {
   "cell_type": "code",
   "execution_count": 39,
   "id": "d4cd3b50-43cf-49bc-9a83-221f4c1d5de7",
   "metadata": {},
   "outputs": [
    {
     "data": {
      "text/plain": [
       "array([[3, 5],\n",
       "       [4, 5]])"
      ]
     },
     "execution_count": 39,
     "metadata": {},
     "output_type": "execute_result"
    }
   ],
   "source": [
    "a+b"
   ]
  },
  {
   "cell_type": "code",
   "execution_count": 40,
   "id": "a2dc3c7b-1c33-4287-8659-7cce05a2adb6",
   "metadata": {},
   "outputs": [
    {
     "data": {
      "text/plain": [
       "array([[2, 6],\n",
       "       [3, 4]])"
      ]
     },
     "execution_count": 40,
     "metadata": {},
     "output_type": "execute_result"
    }
   ],
   "source": [
    "    # normal multiplication ( not matrix multiplication )\n",
    "a*b"
   ]
  },
  {
   "cell_type": "code",
   "execution_count": 41,
   "id": "155c8297-ee32-4350-af70-79bf9a59da18",
   "metadata": {},
   "outputs": [
    {
     "data": {
      "text/plain": [
       "array([[11, 16],\n",
       "       [ 4,  6]])"
      ]
     },
     "execution_count": 41,
     "metadata": {},
     "output_type": "execute_result"
    }
   ],
   "source": [
    "a@b # matrix multiplication"
   ]
  },
  {
   "cell_type": "code",
   "execution_count": 42,
   "id": "fca33e7c-a9f8-476e-b7fa-77f84c0a263e",
   "metadata": {},
   "outputs": [
    {
     "data": {
      "text/plain": [
       "array([[11, 16],\n",
       "       [ 4,  6]])"
      ]
     },
     "execution_count": 42,
     "metadata": {},
     "output_type": "execute_result"
    }
   ],
   "source": [
    "a.dot(b) # same as matrix multiplication"
   ]
  },
  {
   "cell_type": "code",
   "execution_count": 43,
   "id": "33a645c9-28b4-4bd7-99d7-e45daf6203f5",
   "metadata": {},
   "outputs": [
    {
     "data": {
      "text/plain": [
       "array([[0.90769548, 0.07090833, 0.17030721, 0.75601109],\n",
       "       [0.3548135 , 0.50571781, 0.85670848, 0.44786168],\n",
       "       [0.62216419, 0.21900926, 0.1007946 , 0.09192598]])"
      ]
     },
     "execution_count": 43,
     "metadata": {},
     "output_type": "execute_result"
    }
   ],
   "source": [
    "# to create random elements in a matrix\n",
    "np.random.random((3,4))"
   ]
  },
  {
   "cell_type": "code",
   "execution_count": 44,
   "id": "a17724ab-0983-4806-8d18-d8caee83573f",
   "metadata": {},
   "outputs": [],
   "source": [
    "d = np.array([16,13,9,25,15])"
   ]
  },
  {
   "cell_type": "code",
   "execution_count": 45,
   "id": "368ef09b-a7cc-4726-ba9c-81f4b1aa2bd6",
   "metadata": {},
   "outputs": [
    {
     "data": {
      "text/plain": [
       "78"
      ]
     },
     "execution_count": 45,
     "metadata": {},
     "output_type": "execute_result"
    }
   ],
   "source": [
    "d.sum() # sum of all elements in a matrix"
   ]
  },
  {
   "cell_type": "code",
   "execution_count": 46,
   "id": "b5d9c674-6b75-41ff-8382-630cd323ff59",
   "metadata": {},
   "outputs": [
    {
     "data": {
      "text/plain": [
       "9"
      ]
     },
     "execution_count": 46,
     "metadata": {},
     "output_type": "execute_result"
    }
   ],
   "source": [
    "d.min() # minimum value  : element in a matrix"
   ]
  },
  {
   "cell_type": "code",
   "execution_count": 47,
   "id": "7a19185e-d2d6-4fac-b85c-e7b0dc4edbab",
   "metadata": {},
   "outputs": [
    {
     "data": {
      "text/plain": [
       "25"
      ]
     },
     "execution_count": 47,
     "metadata": {},
     "output_type": "execute_result"
    }
   ],
   "source": [
    "d.max() # maximum value  : element in a matrix"
   ]
  },
  {
   "cell_type": "code",
   "execution_count": 48,
   "id": "d286a08d-e3e3-4e41-b81e-a8ccc73cd4f1",
   "metadata": {},
   "outputs": [],
   "source": [
    "b = np.arange(12).reshape(3,4)"
   ]
  },
  {
   "cell_type": "code",
   "execution_count": 49,
   "id": "d04d2e70-fa49-4746-8f77-7546c00ab02d",
   "metadata": {},
   "outputs": [
    {
     "data": {
      "text/plain": [
       "array([[ 0,  1,  2,  3],\n",
       "       [ 4,  5,  6,  7],\n",
       "       [ 8,  9, 10, 11]])"
      ]
     },
     "execution_count": 49,
     "metadata": {},
     "output_type": "execute_result"
    }
   ],
   "source": [
    "b"
   ]
  },
  {
   "cell_type": "code",
   "execution_count": 50,
   "id": "76bb93f4-d7b2-4e34-bd4b-9750cd112cbc",
   "metadata": {},
   "outputs": [
    {
     "data": {
      "text/plain": [
       "array([12, 15, 18, 21])"
      ]
     },
     "execution_count": 50,
     "metadata": {},
     "output_type": "execute_result"
    }
   ],
   "source": [
    "b.sum(axis=0) \n",
    "#  axis=0 :: column wise\n",
    "#     0+4+8 = 12\n",
    "#     1+5+9 = 15\n",
    "#       etc....\n"
   ]
  },
  {
   "cell_type": "code",
   "execution_count": 51,
   "id": "c0427298-447d-417e-92d2-2e72a7050969",
   "metadata": {},
   "outputs": [
    {
     "data": {
      "text/plain": [
       "array([0, 4, 8])"
      ]
     },
     "execution_count": 51,
     "metadata": {},
     "output_type": "execute_result"
    }
   ],
   "source": [
    "b.min(axis=1)\n",
    "# axis = 1 :: raw wise"
   ]
  },
  {
   "cell_type": "code",
   "execution_count": 52,
   "id": "167f2702-deed-4b85-b51a-ebe0efe5ca97",
   "metadata": {},
   "outputs": [
    {
     "data": {
      "text/plain": [
       "array([[ 0,  1,  3,  6],\n",
       "       [ 4,  9, 15, 22],\n",
       "       [ 8, 17, 27, 38]])"
      ]
     },
     "execution_count": 52,
     "metadata": {},
     "output_type": "execute_result"
    }
   ],
   "source": [
    "b.cumsum(axis=1)\n",
    "# cumulative sum"
   ]
  },
  {
   "cell_type": "code",
   "execution_count": 53,
   "id": "a1c43930-8743-4525-b7ff-46e8ba946057",
   "metadata": {},
   "outputs": [],
   "source": [
    "b = np.array([0,2,4])"
   ]
  },
  {
   "cell_type": "code",
   "execution_count": 54,
   "id": "a6a9e8c9-1954-484c-ae1d-7b3295d50d11",
   "metadata": {},
   "outputs": [
    {
     "data": {
      "text/plain": [
       "array([ 1.        ,  7.3890561 , 54.59815003])"
      ]
     },
     "execution_count": 54,
     "metadata": {},
     "output_type": "execute_result"
    }
   ],
   "source": [
    "np.exp(b) # exponential values"
   ]
  },
  {
   "cell_type": "code",
   "execution_count": 55,
   "id": "4c9a8d9d-0115-429e-b55c-b8ac4f8db7ae",
   "metadata": {},
   "outputs": [
    {
     "data": {
      "text/plain": [
       "array([0.        , 1.41421356, 2.        ])"
      ]
     },
     "execution_count": 55,
     "metadata": {},
     "output_type": "execute_result"
    }
   ],
   "source": [
    "np.sqrt(b)"
   ]
  },
  {
   "cell_type": "code",
   "execution_count": 56,
   "id": "a83f0643-0d92-4419-8b61-3c8b86deaad8",
   "metadata": {},
   "outputs": [],
   "source": [
    "d.sort()  # sorting"
   ]
  },
  {
   "cell_type": "code",
   "execution_count": 57,
   "id": "118f8f42-b6c4-4c94-8b24-085b1250692b",
   "metadata": {},
   "outputs": [
    {
     "data": {
      "text/plain": [
       "array([ 9, 13, 15, 16, 25])"
      ]
     },
     "execution_count": 57,
     "metadata": {},
     "output_type": "execute_result"
    }
   ],
   "source": [
    "d"
   ]
  },
  {
   "cell_type": "code",
   "execution_count": 58,
   "id": "62f6f959-50c4-452b-8808-b72a3b85b860",
   "metadata": {},
   "outputs": [],
   "source": [
    "m = d.copy()"
   ]
  },
  {
   "cell_type": "code",
   "execution_count": 59,
   "id": "e4820151-736e-4a15-840e-4d3698072972",
   "metadata": {},
   "outputs": [
    {
     "data": {
      "text/plain": [
       "array([15, 16])"
      ]
     },
     "execution_count": 59,
     "metadata": {},
     "output_type": "execute_result"
    }
   ],
   "source": [
    "m[2:4]"
   ]
  },
  {
   "cell_type": "code",
   "execution_count": 82,
   "id": "a9773562-10c6-4844-b971-031f4045471c",
   "metadata": {},
   "outputs": [
    {
     "data": {
      "text/plain": [
       "array([1, 5])"
      ]
     },
     "execution_count": 82,
     "metadata": {},
     "output_type": "execute_result"
    }
   ],
   "source": [
    "b"
   ]
  },
  {
   "cell_type": "code",
   "execution_count": 84,
   "id": "bb3273cc-2990-4ea4-8224-e0bd6e1328e2",
   "metadata": {},
   "outputs": [
    {
     "data": {
      "text/plain": [
       "array([1, 5])"
      ]
     },
     "execution_count": 84,
     "metadata": {},
     "output_type": "execute_result"
    }
   ],
   "source": [
    "b.ravel() # any diemention change into 1D"
   ]
  },
  {
   "cell_type": "code",
   "execution_count": 85,
   "id": "c3aa4e51-efa2-4ab8-8505-42e904801546",
   "metadata": {},
   "outputs": [
    {
     "data": {
      "text/plain": [
       "array([1, 5])"
      ]
     },
     "execution_count": 85,
     "metadata": {},
     "output_type": "execute_result"
    }
   ],
   "source": [
    "b.T  # Transpose of matrix"
   ]
  },
  {
   "cell_type": "code",
   "execution_count": 86,
   "id": "a2e861bd-f4b3-4fb8-9875-553d9d7d1f93",
   "metadata": {},
   "outputs": [],
   "source": [
    "a = np.full((3,3),6)"
   ]
  },
  {
   "cell_type": "code",
   "execution_count": 87,
   "id": "d4b5c977-ac26-4127-b361-02bd6d32faaf",
   "metadata": {},
   "outputs": [
    {
     "data": {
      "text/plain": [
       "array([[6, 6, 6],\n",
       "       [6, 6, 6],\n",
       "       [6, 6, 6]])"
      ]
     },
     "execution_count": 87,
     "metadata": {},
     "output_type": "execute_result"
    }
   ],
   "source": [
    "a"
   ]
  },
  {
   "cell_type": "code",
   "execution_count": 88,
   "id": "316756f8-d99d-4026-a451-486b8a621be3",
   "metadata": {},
   "outputs": [],
   "source": [
    "b = np.array([[3,6],[2,12]])"
   ]
  },
  {
   "cell_type": "code",
   "execution_count": 89,
   "id": "e79758a7-ef28-4c09-8259-8b46e1981720",
   "metadata": {},
   "outputs": [
    {
     "data": {
      "text/plain": [
       "array([[ 3,  6],\n",
       "       [ 2, 12]])"
      ]
     },
     "execution_count": 89,
     "metadata": {},
     "output_type": "execute_result"
    }
   ],
   "source": [
    "b"
   ]
  },
  {
   "cell_type": "code",
   "execution_count": 90,
   "id": "eaa0b27c-d999-4add-abd7-c811efee353a",
   "metadata": {},
   "outputs": [
    {
     "data": {
      "text/plain": [
       "23.999999999999993"
      ]
     },
     "execution_count": 90,
     "metadata": {},
     "output_type": "execute_result"
    }
   ],
   "source": [
    "np.linalg.det(b)"
   ]
  },
  {
   "cell_type": "code",
   "execution_count": 91,
   "id": "c9e65820-e1eb-4c67-86b8-c5ed4e7c3aff",
   "metadata": {},
   "outputs": [
    {
     "name": "stdout",
     "output_type": "stream",
     "text": [
      "[-2.    2.25]\n"
     ]
    }
   ],
   "source": [
    "# define the coefficient matrix A\n",
    "A = np.array([[2, 4], [6, 8]])\n",
    "# define the constant vector b\n",
    "b = np.array([5, 6])\n",
    "# solve the system of linear equations Ax = b\n",
    "x = np.linalg.solve(A, b)\n",
    "print(x)"
   ]
  },
  {
   "cell_type": "raw",
   "id": "06994be0-798e-4879-8932-89953174b659",
   "metadata": {},
   "source": [
    "Here, the output is [-2. 2.25], which is the solution to the system of linear equations 2x + 4y = 5 and 6x + 8y = 6."
   ]
  },
  {
   "cell_type": "code",
   "execution_count": 92,
   "id": "627d703c-0387-4d55-a1a7-3c21b8c1ad99",
   "metadata": {},
   "outputs": [
    {
     "name": "stdout",
     "output_type": "stream",
     "text": [
      "[[-1.    0.5 ]\n",
      " [ 0.75 -0.25]]\n"
     ]
    }
   ],
   "source": [
    "# find inverse\n",
    "ar = np.array([[2, 4],[6, 8]])\n",
    "ra = np.linalg.inv(ar)\n",
    "print(ra)"
   ]
  },
  {
   "cell_type": "code",
   "execution_count": 93,
   "id": "a205e03f-eb8d-4159-ad92-58d5e65a4a7b",
   "metadata": {},
   "outputs": [
    {
     "name": "stdout",
     "output_type": "stream",
     "text": [
      "[[1.0000000e+00 0.0000000e+00]\n",
      " [8.8817842e-16 1.0000000e+00]]\n"
     ]
    }
   ],
   "source": [
    "print(ar@ra)  # AA^-1 = I"
   ]
  },
  {
   "cell_type": "code",
   "execution_count": 94,
   "id": "f6d021a7-d63f-4d4f-990a-650e009f0ada",
   "metadata": {},
   "outputs": [
    {
     "name": "stdout",
     "output_type": "stream",
     "text": [
      "12\n"
     ]
    }
   ],
   "source": [
    "# Trace \n",
    "a = np.array([[6, 3, 5], [9, 2, 1], [7, 8, 4]])\n",
    "rt = np.trace(a)\n",
    "print(rt)"
   ]
  },
  {
   "cell_type": "code",
   "execution_count": 95,
   "id": "f55e31fc-85c1-42e6-8a0f-2e6857560df6",
   "metadata": {},
   "outputs": [
    {
     "data": {
      "text/plain": [
       "array([[6, 3, 5],\n",
       "       [9, 2, 1],\n",
       "       [7, 8, 4]])"
      ]
     },
     "execution_count": 95,
     "metadata": {},
     "output_type": "execute_result"
    }
   ],
   "source": [
    "a"
   ]
  },
  {
   "cell_type": "code",
   "execution_count": 96,
   "id": "8436beff-7505-4811-b58b-d39d26219dd0",
   "metadata": {},
   "outputs": [],
   "source": [
    "a = np.array([3,4])\n",
    "b = np.array([1,5])"
   ]
  },
  {
   "cell_type": "code",
   "execution_count": 97,
   "id": "556f28df-3355-4fb2-b7d0-5c0ffadb654b",
   "metadata": {},
   "outputs": [
    {
     "data": {
      "text/plain": [
       "23"
      ]
     },
     "execution_count": 97,
     "metadata": {},
     "output_type": "execute_result"
    }
   ],
   "source": [
    "np.dot(a,b) # Dot product"
   ]
  },
  {
   "cell_type": "code",
   "execution_count": null,
   "id": "63c991d6-5bb8-4001-934e-118fadd31b22",
   "metadata": {},
   "outputs": [],
   "source": []
  },
  {
   "cell_type": "code",
   "execution_count": 98,
   "id": "5269bf95-b988-4211-b11a-31347dccfaae",
   "metadata": {},
   "outputs": [],
   "source": [
    "#                Source i used \n",
    "# https://www.youtube.com/watch?v=jUyJujpizh0\n",
    "# https://www.programiz.com/python-programming/numpy/linear-algebra \n",
    "# https://numpy.org/doc/stable/reference/generated/numpy.matrix.H.html\n",
    "# https://numpy.org/doc/stable/reference/routines.linalg.htm"
   ]
  },
  {
   "cell_type": "code",
   "execution_count": null,
   "id": "50fe18f8-71ba-462e-a30f-42d95cdd5be3",
   "metadata": {},
   "outputs": [],
   "source": []
  },
  {
   "cell_type": "code",
   "execution_count": null,
   "id": "ffc9f030-08f0-4942-b7bd-64eb0ba201df",
   "metadata": {},
   "outputs": [],
   "source": []
  },
  {
   "cell_type": "code",
   "execution_count": null,
   "id": "f875925d-4cc5-4a67-9bb8-ba32a1e5dbe5",
   "metadata": {},
   "outputs": [],
   "source": []
  },
  {
   "cell_type": "code",
   "execution_count": null,
   "id": "f5ffb249-9e33-4fce-a16a-15d2852370ce",
   "metadata": {},
   "outputs": [],
   "source": []
  }
 ],
 "metadata": {
  "kernelspec": {
   "display_name": "Python 3 (ipykernel)",
   "language": "python",
   "name": "python3"
  },
  "language_info": {
   "codemirror_mode": {
    "name": "ipython",
    "version": 3
   },
   "file_extension": ".py",
   "mimetype": "text/x-python",
   "name": "python",
   "nbconvert_exporter": "python",
   "pygments_lexer": "ipython3",
   "version": "3.11.5"
  }
 },
 "nbformat": 4,
 "nbformat_minor": 5
}
